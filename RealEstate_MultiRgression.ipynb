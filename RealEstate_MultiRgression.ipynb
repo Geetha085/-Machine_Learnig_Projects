{
  "nbformat": 4,
  "nbformat_minor": 0,
  "metadata": {
    "colab": {
      "provenance": []
    },
    "kernelspec": {
      "name": "python3",
      "display_name": "Python 3"
    },
    "language_info": {
      "name": "python"
    }
  },
  "cells": [
    {
      "cell_type": "code",
      "execution_count": null,
      "metadata": {
        "id": "W3JDRLy7i_Xd"
      },
      "outputs": [],
      "source": [
        "import pandas as pd\n",
        "import numpy as np\n",
        "import matplotlib.pyplot as plt\n",
        "import seaborn as sns\n",
        "from sklearn.model_selection import train_test_split\n",
        "from sklearn.linear_model import LinearRegression\n",
        "from sklearn.metrics import mean_squared_error, mean_absolute_error"
      ]
    },
    {
      "cell_type": "code",
      "source": [
        "df=pd.read_csv('/content/Real-estate1 - Real-estate1.csv')\n",
        "print(df)\n",
        "df.drop('No',inplace=True,axis=1)"
      ],
      "metadata": {
        "id": "GSO7XF76jQ9q"
      },
      "execution_count": null,
      "outputs": []
    },
    {
      "cell_type": "code",
      "source": [
        "print(df.head())\n",
        "print(df.columns)"
      ],
      "metadata": {
        "id": "Y4n5Yw1gjWsj"
      },
      "execution_count": null,
      "outputs": []
    },
    {
      "cell_type": "code",
      "source": [
        "sns.scatterplot(x='X4 number of convenience stores',y='Y house price of unit area',data=df)"
      ],
      "metadata": {
        "id": "KBLTo-u2jauR"
      },
      "execution_count": null,
      "outputs": []
    },
    {
      "cell_type": "code",
      "source": [
        "x=df.drop('Y house price of unit area',axis=1)\n",
        "y=df['Y house price of unit area']\n",
        "print(x)\n",
        "print(y)"
      ],
      "metadata": {
        "id": "KOXSKDZZjb2p"
      },
      "execution_count": null,
      "outputs": []
    },
    {
      "cell_type": "code",
      "source": [
        "x_train,x_test,y_train,y_test=train_test_split(x,y,test_size=0.3,random_state=101)"
      ],
      "metadata": {
        "id": "PvpGmpYajn-n"
      },
      "execution_count": null,
      "outputs": []
    },
    {
      "cell_type": "code",
      "source": [
        "model=LinearRegression()\n",
        "model.fit(x_train,y_train)"
      ],
      "metadata": {
        "id": "bPtDEoQMjqKs"
      },
      "execution_count": null,
      "outputs": []
    },
    {
      "cell_type": "code",
      "source": [
        "prediction=model.predict(x_test)\n",
        "print('mean_Squared_error:',mean_squared_error(y_test,prediction))\n",
        "print('mean_absolute_error:',mean_absolute_error(y_test,prediction))"
      ],
      "metadata": {
        "id": "8WUWxnOSjwGn"
      },
      "execution_count": null,
      "outputs": []
    }
  ]
}